{
  "nbformat": 4,
  "nbformat_minor": 0,
  "metadata": {
    "colab": {
      "provenance": [],
      "collapsed_sections": [
        "_yl30h2cjenG",
        "DAssUtEqlZbZ",
        "pHCNTz5PnVME",
        "eBYonStOX_HN",
        "VEsfMt3WagcO",
        "kAAVBk_FbJe5",
        "nP_mgK5tcL20",
        "J4kpy6_ZdcWP",
        "7PbLBnoEd34z",
        "91WFgiO6eMzX",
        "ZdsoXesidZJk",
        "qZgC4CaFesu1",
        "IW8WC335hoCE"
      ],
      "authorship_tag": "ABX9TyOOvObDebGMNIY6VkSAdq9Y",
      "include_colab_link": true
    },
    "kernelspec": {
      "name": "python3",
      "display_name": "Python 3"
    },
    "language_info": {
      "name": "python"
    }
  },
  "cells": [
    {
      "cell_type": "markdown",
      "metadata": {
        "id": "view-in-github",
        "colab_type": "text"
      },
      "source": [
        "<a href=\"https://colab.research.google.com/github/pujitha9908/Pujitha-/blob/main/colab_basic_and_python_codes_.ipynb\" target=\"_parent\"><img src=\"https://colab.research.google.com/assets/colab-badge.svg\" alt=\"Open In Colab\"/></a>"
      ]
    },
    {
      "cell_type": "code",
      "execution_count": null,
      "metadata": {
        "colab": {
          "base_uri": "https://localhost:8080/"
        },
        "id": "V_bAPpLlqA42",
        "outputId": "0ee67207-8113-4809-a9ee-5ec7608fb004"
      },
      "outputs": [
        {
          "output_type": "stream",
          "name": "stdout",
          "text": [
            "processor\t: 0\n",
            "vendor_id\t: GenuineIntel\n",
            "cpu family\t: 6\n",
            "model\t\t: 79\n",
            "model name\t: Intel(R) Xeon(R) CPU @ 2.20GHz\n",
            "stepping\t: 0\n",
            "microcode\t: 0xffffffff\n",
            "cpu MHz\t\t: 2200.220\n",
            "cache size\t: 56320 KB\n",
            "physical id\t: 0\n",
            "siblings\t: 2\n",
            "core id\t\t: 0\n",
            "cpu cores\t: 1\n",
            "apicid\t\t: 0\n",
            "initial apicid\t: 0\n",
            "fpu\t\t: yes\n",
            "fpu_exception\t: yes\n",
            "cpuid level\t: 13\n",
            "wp\t\t: yes\n",
            "flags\t\t: fpu vme de pse tsc msr pae mce cx8 apic sep mtrr pge mca cmov pat pse36 clflush mmx fxsr sse sse2 ss ht syscall nx pdpe1gb rdtscp lm constant_tsc rep_good nopl xtopology nonstop_tsc cpuid tsc_known_freq pni pclmulqdq ssse3 fma cx16 pcid sse4_1 sse4_2 x2apic movbe popcnt aes xsave avx f16c rdrand hypervisor lahf_lm abm 3dnowprefetch invpcid_single ssbd ibrs ibpb stibp fsgsbase tsc_adjust bmi1 hle avx2 smep bmi2 erms invpcid rtm rdseed adx smap xsaveopt arat md_clear arch_capabilities\n",
            "bugs\t\t: cpu_meltdown spectre_v1 spectre_v2 spec_store_bypass l1tf mds swapgs taa mmio_stale_data retbleed bhi\n",
            "bogomips\t: 4400.44\n",
            "clflush size\t: 64\n",
            "cache_alignment\t: 64\n",
            "address sizes\t: 46 bits physical, 48 bits virtual\n",
            "power management:\n",
            "\n",
            "processor\t: 1\n",
            "vendor_id\t: GenuineIntel\n",
            "cpu family\t: 6\n",
            "model\t\t: 79\n",
            "model name\t: Intel(R) Xeon(R) CPU @ 2.20GHz\n",
            "stepping\t: 0\n",
            "microcode\t: 0xffffffff\n",
            "cpu MHz\t\t: 2200.220\n",
            "cache size\t: 56320 KB\n",
            "physical id\t: 0\n",
            "siblings\t: 2\n",
            "core id\t\t: 0\n",
            "cpu cores\t: 1\n",
            "apicid\t\t: 1\n",
            "initial apicid\t: 1\n",
            "fpu\t\t: yes\n",
            "fpu_exception\t: yes\n",
            "cpuid level\t: 13\n",
            "wp\t\t: yes\n",
            "flags\t\t: fpu vme de pse tsc msr pae mce cx8 apic sep mtrr pge mca cmov pat pse36 clflush mmx fxsr sse sse2 ss ht syscall nx pdpe1gb rdtscp lm constant_tsc rep_good nopl xtopology nonstop_tsc cpuid tsc_known_freq pni pclmulqdq ssse3 fma cx16 pcid sse4_1 sse4_2 x2apic movbe popcnt aes xsave avx f16c rdrand hypervisor lahf_lm abm 3dnowprefetch invpcid_single ssbd ibrs ibpb stibp fsgsbase tsc_adjust bmi1 hle avx2 smep bmi2 erms invpcid rtm rdseed adx smap xsaveopt arat md_clear arch_capabilities\n",
            "bugs\t\t: cpu_meltdown spectre_v1 spectre_v2 spec_store_bypass l1tf mds swapgs taa mmio_stale_data retbleed bhi\n",
            "bogomips\t: 4400.44\n",
            "clflush size\t: 64\n",
            "cache_alignment\t: 64\n",
            "address sizes\t: 46 bits physical, 48 bits virtual\n",
            "power management:\n",
            "\n"
          ]
        }
      ],
      "source": [
        "!cat /proc/cpuinfo\n",
        "\n",
        "#no need exclamatory for ruuning python programs\n",
        "#tells the details of cpu"
      ]
    },
    {
      "cell_type": "markdown",
      "source": [],
      "metadata": {
        "id": "fqrxffFisA5g"
      }
    },
    {
      "cell_type": "code",
      "source": [
        "! cat  /proc/meminfo"
      ],
      "metadata": {
        "colab": {
          "base_uri": "https://localhost:8080/"
        },
        "id": "0e81tR4arH0V",
        "outputId": "51b0005a-4254-4d83-fb9f-4cfce69ff0b5"
      },
      "execution_count": null,
      "outputs": [
        {
          "output_type": "stream",
          "name": "stdout",
          "text": [
            "MemTotal:       13290452 kB\n",
            "MemFree:         9154732 kB\n",
            "MemAvailable:   12163928 kB\n",
            "Buffers:          115580 kB\n",
            "Cached:          3055700 kB\n",
            "SwapCached:            0 kB\n",
            "Active:           790788 kB\n",
            "Inactive:        3047936 kB\n",
            "Active(anon):       1448 kB\n",
            "Inactive(anon):   667796 kB\n",
            "Active(file):     789340 kB\n",
            "Inactive(file):  2380140 kB\n",
            "Unevictable:           8 kB\n",
            "Mlocked:               8 kB\n",
            "SwapTotal:             0 kB\n",
            "SwapFree:              0 kB\n",
            "Dirty:              3200 kB\n",
            "Writeback:             0 kB\n",
            "AnonPages:        667540 kB\n",
            "Mapped:           324540 kB\n",
            "Shmem:              1792 kB\n",
            "KReclaimable:     161632 kB\n",
            "Slab:             203108 kB\n",
            "SReclaimable:     161632 kB\n",
            "SUnreclaim:        41476 kB\n",
            "KernelStack:        5908 kB\n",
            "PageTables:        11156 kB\n",
            "SecPageTables:         0 kB\n",
            "NFS_Unstable:          0 kB\n",
            "Bounce:                0 kB\n",
            "WritebackTmp:          0 kB\n",
            "CommitLimit:     6645224 kB\n",
            "Committed_AS:    3024100 kB\n",
            "VmallocTotal:   34359738367 kB\n",
            "VmallocUsed:       12264 kB\n",
            "VmallocChunk:          0 kB\n",
            "Percpu:             1144 kB\n",
            "HardwareCorrupted:     0 kB\n",
            "AnonHugePages:         0 kB\n",
            "ShmemHugePages:        0 kB\n",
            "ShmemPmdMapped:        0 kB\n",
            "FileHugePages:         0 kB\n",
            "FilePmdMapped:         0 kB\n",
            "CmaTotal:              0 kB\n",
            "CmaFree:               0 kB\n",
            "Unaccepted:            0 kB\n",
            "HugePages_Total:       0\n",
            "HugePages_Free:        0\n",
            "HugePages_Rsvd:        0\n",
            "HugePages_Surp:        0\n",
            "Hugepagesize:       2048 kB\n",
            "Hugetlb:               0 kB\n",
            "DirectMap4k:       60216 kB\n",
            "DirectMap2M:     6227968 kB\n",
            "DirectMap1G:     9437184 kB\n"
          ]
        }
      ]
    },
    {
      "cell_type": "markdown",
      "source": [
        "installing libraries\n"
      ],
      "metadata": {
        "id": "2-zhdfCnsGDF"
      }
    },
    {
      "cell_type": "code",
      "source": [
        "pip install pandas"
      ],
      "metadata": {
        "colab": {
          "base_uri": "https://localhost:8080/"
        },
        "id": "_xsYnZPfsDi2",
        "outputId": "1a64400d-face-45b0-c743-b6291fa3fa86"
      },
      "execution_count": null,
      "outputs": [
        {
          "output_type": "stream",
          "name": "stdout",
          "text": [
            "Requirement already satisfied: pandas in /usr/local/lib/python3.10/dist-packages (2.2.2)\n",
            "Requirement already satisfied: numpy>=1.22.4 in /usr/local/lib/python3.10/dist-packages (from pandas) (1.26.4)\n",
            "Requirement already satisfied: python-dateutil>=2.8.2 in /usr/local/lib/python3.10/dist-packages (from pandas) (2.8.2)\n",
            "Requirement already satisfied: pytz>=2020.1 in /usr/local/lib/python3.10/dist-packages (from pandas) (2024.2)\n",
            "Requirement already satisfied: tzdata>=2022.7 in /usr/local/lib/python3.10/dist-packages (from pandas) (2024.2)\n",
            "Requirement already satisfied: six>=1.5 in /usr/local/lib/python3.10/dist-packages (from python-dateutil>=2.8.2->pandas) (1.17.0)\n"
          ]
        }
      ]
    },
    {
      "cell_type": "markdown",
      "source": [
        "programming language used for machine learning\n",
        "\n",
        "1.python\n",
        "2.R\n",
        "# printfunction"
      ],
      "metadata": {
        "id": "jiwq4z4UvXQF"
      }
    },
    {
      "cell_type": "code",
      "source": [
        "print(\"machine learning\")"
      ],
      "metadata": {
        "id": "kD4UrOs4sckB",
        "colab": {
          "base_uri": "https://localhost:8080/"
        },
        "outputId": "241d16e1-2f32-4fa3-fcbf-7c279fc982d3"
      },
      "execution_count": null,
      "outputs": [
        {
          "output_type": "stream",
          "name": "stdout",
          "text": [
            "machine learning\n"
          ]
        }
      ]
    },
    {
      "cell_type": "code",
      "source": [
        "print(\"machine learning\" + \"projects\")"
      ],
      "metadata": {
        "colab": {
          "base_uri": "https://localhost:8080/"
        },
        "id": "tJwFOi9sv0Zh",
        "outputId": "b7c9180e-d855-4107-e359-4b73bacbb658"
      },
      "execution_count": null,
      "outputs": [
        {
          "output_type": "stream",
          "name": "stdout",
          "text": [
            "machine learningprojects\n"
          ]
        }
      ]
    },
    {
      "cell_type": "code",
      "source": [
        "print(8)"
      ],
      "metadata": {
        "colab": {
          "base_uri": "https://localhost:8080/"
        },
        "id": "uQuualVGwGwu",
        "outputId": "9c2fcea3-e869-4e82-9143-793692f6a127"
      },
      "execution_count": null,
      "outputs": [
        {
          "output_type": "stream",
          "name": "stdout",
          "text": [
            "8\n"
          ]
        }
      ]
    },
    {
      "cell_type": "code",
      "source": [
        "print(8+8)"
      ],
      "metadata": {
        "colab": {
          "base_uri": "https://localhost:8080/"
        },
        "id": "mGrcf9J8wK8O",
        "outputId": "77f8ffc5-0ba3-44ed-9410-e62aaec5af78"
      },
      "execution_count": null,
      "outputs": [
        {
          "output_type": "stream",
          "name": "stdout",
          "text": [
            "16\n"
          ]
        }
      ]
    },
    {
      "cell_type": "markdown",
      "source": [
        "# Basic data types\n",
        "1. int\n",
        "2.float\n",
        "3.string"
      ],
      "metadata": {
        "id": "tjO4yxApynnJ"
      }
    },
    {
      "cell_type": "code",
      "source": [
        "# string data type\n",
        "a=\"pujitha\"\n",
        "print(a)\n",
        "type(a)"
      ],
      "metadata": {
        "colab": {
          "base_uri": "https://localhost:8080/"
        },
        "id": "c5r_I1_8zYyn",
        "outputId": "0806825f-f92c-4e4e-fd27-64f0ca364aa5"
      },
      "execution_count": null,
      "outputs": [
        {
          "output_type": "stream",
          "name": "stdout",
          "text": [
            "pujitha\n"
          ]
        },
        {
          "output_type": "execute_result",
          "data": {
            "text/plain": [
              "str"
            ]
          },
          "metadata": {},
          "execution_count": 16
        }
      ]
    },
    {
      "cell_type": "code",
      "source": [
        "#interger datatype\n",
        "a=10\n",
        "print(a)\n",
        "type(a)"
      ],
      "metadata": {
        "colab": {
          "base_uri": "https://localhost:8080/"
        },
        "id": "jeC5pCYdyxZZ",
        "outputId": "de1e28fa-f9ac-4654-f704-bca1a3d60930"
      },
      "execution_count": null,
      "outputs": [
        {
          "output_type": "stream",
          "name": "stdout",
          "text": [
            "10\n"
          ]
        },
        {
          "output_type": "execute_result",
          "data": {
            "text/plain": [
              "int"
            ]
          },
          "metadata": {},
          "execution_count": 14
        }
      ]
    },
    {
      "cell_type": "code",
      "source": [
        "#float data type\n",
        "a=0.004\n",
        "print(a)\n",
        "type(a)"
      ],
      "metadata": {
        "colab": {
          "base_uri": "https://localhost:8080/"
        },
        "id": "A-wzg9dczsd0",
        "outputId": "73cfefbc-c51b-4a92-85b6-b8575dee4cf2"
      },
      "execution_count": null,
      "outputs": [
        {
          "output_type": "stream",
          "name": "stdout",
          "text": [
            "0.004\n"
          ]
        },
        {
          "output_type": "execute_result",
          "data": {
            "text/plain": [
              "float"
            ]
          },
          "metadata": {},
          "execution_count": 15
        }
      ]
    },
    {
      "cell_type": "markdown",
      "source": [
        "#constanta and variables"
      ],
      "metadata": {
        "id": "p3_jk3jCMV0e"
      }
    },
    {
      "cell_type": "code",
      "source": [
        "# constants\n",
        "supervariable = \"pujitha chowdary\"\n",
        "print(supervariable)"
      ],
      "metadata": {
        "colab": {
          "base_uri": "https://localhost:8080/"
        },
        "id": "Xjf2X0t4McLU",
        "outputId": "2b74e271-eefa-4283-c4fc-8fd335a8fbe0"
      },
      "execution_count": null,
      "outputs": [
        {
          "output_type": "stream",
          "name": "stdout",
          "text": [
            "krishna\n"
          ]
        }
      ]
    },
    {
      "cell_type": "code",
      "source": [
        "supervariable = \"krishna\"\n",
        "print(supervariable)"
      ],
      "metadata": {
        "colab": {
          "base_uri": "https://localhost:8080/"
        },
        "id": "jOHkjGEuM5MO",
        "outputId": "98dd45c5-8a4b-4fb4-97b5-3f69013b83e5"
      },
      "execution_count": null,
      "outputs": [
        {
          "output_type": "stream",
          "name": "stdout",
          "text": [
            "krishna\n"
          ]
        }
      ]
    },
    {
      "cell_type": "code",
      "source": [
        "# variables\n",
        "hero1,hero2,hero3 = \"thor\",\"ironman\",\"hulk\"\n",
        "print(hero1)\n",
        "print(hero2)\n",
        "print(hero3)\n",
        "#mutplie variables\n",
        "x=y=z = 100\n",
        "print(x)\n",
        "print(y)\n",
        "print(z)"
      ],
      "metadata": {
        "colab": {
          "base_uri": "https://localhost:8080/"
        },
        "id": "AFtBGoObNXJq",
        "outputId": "ff501759-1e78-4c15-f398-b56931c2a383"
      },
      "execution_count": null,
      "outputs": [
        {
          "output_type": "stream",
          "name": "stdout",
          "text": [
            "thor\n",
            "ironman\n",
            "hulk\n",
            "100\n",
            "100\n",
            "100\n"
          ]
        }
      ]
    },
    {
      "cell_type": "markdown",
      "source": [
        "#input function"
      ],
      "metadata": {
        "id": "Rt6YV-33OM0r"
      }
    },
    {
      "cell_type": "code",
      "source": [
        "# here input reads as integer\n",
        "number_1=int(input(\"enter the first number\"))\n",
        "number_2=int(input(\"enter the second number\"))\n",
        "print(number_1+number_2)\n",
        "\n",
        "# here input reads as a string\n",
        "number_1=input(\"enter the first number\")\n",
        "number_2=input(\"enter the second number\")\n",
        "sum= number_1+number_2\n",
        "print(sum)\n"
      ],
      "metadata": {
        "colab": {
          "base_uri": "https://localhost:8080/"
        },
        "id": "ZYXjnp8NORhi",
        "outputId": "5660a63e-4534-47a9-db6d-b323db723839"
      },
      "execution_count": null,
      "outputs": [
        {
          "output_type": "stream",
          "name": "stdout",
          "text": [
            "enter the first number8\n",
            "enter the second number9\n",
            "17\n"
          ]
        }
      ]
    },
    {
      "cell_type": "code",
      "source": [
        "# changing the data type in python\n",
        "a=5\n",
        "b=float(a)\n",
        "print(b)\n",
        "type(b)\n",
        "\n",
        "c=\"8886\"\n",
        "d=int(c)\n",
        "print(c)\n",
        "print(d)\n",
        "print(d)\n",
        "print(type(c))\n",
        "type(d)"
      ],
      "metadata": {
        "colab": {
          "base_uri": "https://localhost:8080/"
        },
        "id": "pkY5fAiAOdop",
        "outputId": "678a3653-2c79-4a1b-f35f-47258275a66f"
      },
      "execution_count": null,
      "outputs": [
        {
          "output_type": "stream",
          "name": "stdout",
          "text": [
            "5.0\n",
            "8886\n",
            "8886\n",
            "8886\n",
            "<class 'str'>\n"
          ]
        },
        {
          "output_type": "execute_result",
          "data": {
            "text/plain": [
              "int"
            ]
          },
          "metadata": {},
          "execution_count": 10
        }
      ]
    },
    {
      "cell_type": "markdown",
      "source": [
        "# basic data types of python\n",
        "1.integer\n",
        "2.floating point\n",
        "3.complex\n",
        "4.boolean\n",
        "5.string"
      ],
      "metadata": {
        "id": "kfmVB5zSQs5F"
      }
    },
    {
      "cell_type": "code",
      "source": [
        "#interger data type\n",
        "a = 8\n",
        "print(a)\n",
        "type(a)"
      ],
      "metadata": {
        "colab": {
          "base_uri": "https://localhost:8080/"
        },
        "id": "MYBC2Xd8Q_9t",
        "outputId": "94974ea4-97ee-4c8a-df1e-76dabf3ed3fb"
      },
      "execution_count": null,
      "outputs": [
        {
          "output_type": "stream",
          "name": "stdout",
          "text": [
            "8\n"
          ]
        },
        {
          "output_type": "execute_result",
          "data": {
            "text/plain": [
              "int"
            ]
          },
          "metadata": {},
          "execution_count": 11
        }
      ]
    },
    {
      "cell_type": "code",
      "source": [
        "#floating point\n",
        "b=8.8\n",
        "print(b)\n",
        "type(b)"
      ],
      "metadata": {
        "colab": {
          "base_uri": "https://localhost:8080/"
        },
        "id": "Ei1y-KPQRXDX",
        "outputId": "d34494c4-5617-4593-afaf-e276c2567d45"
      },
      "execution_count": null,
      "outputs": [
        {
          "output_type": "stream",
          "name": "stdout",
          "text": [
            "8.8\n"
          ]
        },
        {
          "output_type": "execute_result",
          "data": {
            "text/plain": [
              "float"
            ]
          },
          "metadata": {},
          "execution_count": 12
        }
      ]
    },
    {
      "cell_type": "code",
      "source": [
        "#complex numbers\n",
        "c=1+3j\n",
        "print(c)\n",
        "type(c)"
      ],
      "metadata": {
        "colab": {
          "base_uri": "https://localhost:8080/"
        },
        "id": "0TLRdo8bRglb",
        "outputId": "17386fb9-8a2d-47a8-865b-134e6d8a1fed"
      },
      "execution_count": null,
      "outputs": [
        {
          "output_type": "stream",
          "name": "stdout",
          "text": [
            "(1+3j)\n"
          ]
        },
        {
          "output_type": "execute_result",
          "data": {
            "text/plain": [
              "complex"
            ]
          },
          "metadata": {},
          "execution_count": 13
        }
      ]
    },
    {
      "cell_type": "markdown",
      "source": [
        "# conversion of one data type to another"
      ],
      "metadata": {
        "id": "2ZQ_3Z16VcB0"
      }
    },
    {
      "cell_type": "code",
      "source": [
        "\n",
        "# conversion of integer to float\n",
        "x=88\n",
        "print(x)\n",
        "print(type(x))\n",
        "y=float(x)\n",
        "print(y)\n",
        "print(type(y))"
      ],
      "metadata": {
        "colab": {
          "base_uri": "https://localhost:8080/"
        },
        "id": "zdt5vvVlRniL",
        "outputId": "de82ebee-2bab-42fe-b482-b1f3981b1245"
      },
      "execution_count": null,
      "outputs": [
        {
          "output_type": "stream",
          "name": "stdout",
          "text": [
            "88\n",
            "<class 'int'>\n",
            "88.0\n",
            "<class 'float'>\n"
          ]
        }
      ]
    },
    {
      "cell_type": "code",
      "source": [
        "# conversion of float to integer\n",
        "x=8.8\n",
        "print(x)\n",
        "print(type(x))\n",
        "y=int(x)\n",
        "print(y)\n",
        "print(type(y))"
      ],
      "metadata": {
        "colab": {
          "base_uri": "https://localhost:8080/"
        },
        "id": "KheZP6HYS7Wh",
        "outputId": "72dea4a5-e841-4b7e-ec1d-0bb0977cb3f2"
      },
      "execution_count": null,
      "outputs": [
        {
          "output_type": "stream",
          "name": "stdout",
          "text": [
            "8.8\n",
            "<class 'float'>\n",
            "8\n",
            "<class 'int'>\n"
          ]
        }
      ]
    },
    {
      "cell_type": "markdown",
      "source": [
        "# Boolean data type\n",
        "1. true\n",
        "2.false"
      ],
      "metadata": {
        "id": "wXhS5HsZVe-5"
      }
    },
    {
      "cell_type": "code",
      "source": [
        "a=True\n",
        "print(a)\n",
        "type(a)"
      ],
      "metadata": {
        "colab": {
          "base_uri": "https://localhost:8080/"
        },
        "id": "7YszZ3__To8P",
        "outputId": "539189e7-0eef-452b-fde9-ab5aacc5e6f7"
      },
      "execution_count": null,
      "outputs": [
        {
          "output_type": "stream",
          "name": "stdout",
          "text": [
            "True\n"
          ]
        },
        {
          "output_type": "execute_result",
          "data": {
            "text/plain": [
              "bool"
            ]
          },
          "metadata": {},
          "execution_count": 16
        }
      ]
    },
    {
      "cell_type": "code",
      "source": [
        "a=False\n",
        "print(a)\n",
        "type(a)"
      ],
      "metadata": {
        "colab": {
          "base_uri": "https://localhost:8080/"
        },
        "id": "VSYto59NWiWg",
        "outputId": "591db646-c608-4003-9583-7a5e4735dad2"
      },
      "execution_count": null,
      "outputs": [
        {
          "output_type": "stream",
          "name": "stdout",
          "text": [
            "False\n"
          ]
        },
        {
          "output_type": "execute_result",
          "data": {
            "text/plain": [
              "bool"
            ]
          },
          "metadata": {},
          "execution_count": 18
        }
      ]
    },
    {
      "cell_type": "code",
      "source": [
        "a = 3<7\n",
        "print(a)\n",
        "type(a)"
      ],
      "metadata": {
        "colab": {
          "base_uri": "https://localhost:8080/"
        },
        "id": "ImFCzQ5aWptg",
        "outputId": "9bcf85ea-f731-4ede-a99b-ac768ed08414"
      },
      "execution_count": null,
      "outputs": [
        {
          "output_type": "stream",
          "name": "stdout",
          "text": [
            "True\n"
          ]
        },
        {
          "output_type": "execute_result",
          "data": {
            "text/plain": [
              "bool"
            ]
          },
          "metadata": {},
          "execution_count": 19
        }
      ]
    },
    {
      "cell_type": "code",
      "source": [
        "a = 3<7\n",
        "print(a)\n",
        "type(a)"
      ],
      "metadata": {
        "colab": {
          "base_uri": "https://localhost:8080/"
        },
        "id": "Mc1ASGE-W3Sb",
        "outputId": "d0bebaae-c13e-4070-f37a-9792f2c5a74d"
      },
      "execution_count": null,
      "outputs": [
        {
          "output_type": "stream",
          "name": "stdout",
          "text": [
            "True\n"
          ]
        },
        {
          "output_type": "execute_result",
          "data": {
            "text/plain": [
              "bool"
            ]
          },
          "metadata": {},
          "execution_count": 20
        }
      ]
    },
    {
      "cell_type": "markdown",
      "source": [
        "#string"
      ],
      "metadata": {
        "id": "As7Xt9R2XF3Y"
      }
    },
    {
      "cell_type": "code",
      "source": [
        "print(\"machine learning\")"
      ],
      "metadata": {
        "colab": {
          "base_uri": "https://localhost:8080/"
        },
        "id": "WbcPc6E_XVvy",
        "outputId": "e2b42aab-6b35-439a-b875-da59fb21c5e2"
      },
      "execution_count": null,
      "outputs": [
        {
          "output_type": "stream",
          "name": "stdout",
          "text": [
            "machine learning\n"
          ]
        }
      ]
    },
    {
      "cell_type": "code",
      "source": [
        "my_string = \"pujitha\"\n",
        "print(my_string)\n",
        "type(my_string)"
      ],
      "metadata": {
        "colab": {
          "base_uri": "https://localhost:8080/"
        },
        "id": "N5fLRrcBXIy-",
        "outputId": "eb3758a0-da06-4187-e5e0-775652cc3eb2"
      },
      "execution_count": null,
      "outputs": [
        {
          "output_type": "stream",
          "name": "stdout",
          "text": [
            "pujitha\n"
          ]
        },
        {
          "output_type": "execute_result",
          "data": {
            "text/plain": [
              "str"
            ]
          },
          "metadata": {},
          "execution_count": 23
        }
      ]
    },
    {
      "cell_type": "code",
      "source": [
        "print(\"hello\"*5)"
      ],
      "metadata": {
        "colab": {
          "base_uri": "https://localhost:8080/"
        },
        "id": "nM4A7eR1XbP3",
        "outputId": "8b634330-7031-4cae-f3f7-873e83153f8e"
      },
      "execution_count": null,
      "outputs": [
        {
          "output_type": "stream",
          "name": "stdout",
          "text": [
            "hellohellohellohellohello\n"
          ]
        }
      ]
    },
    {
      "cell_type": "markdown",
      "source": [
        "#Slicing"
      ],
      "metadata": {
        "id": "ocdUqFFTX2ge"
      }
    },
    {
      "cell_type": "code",
      "source": [
        "# values from index 1 to 5-1 will be sliced\n",
        "my_string=\"puchuu\"\n",
        "print(my_string[0:2])"
      ],
      "metadata": {
        "colab": {
          "base_uri": "https://localhost:8080/"
        },
        "id": "Ck3N9ZLiX1uT",
        "outputId": "d4c1be0f-3d31-406e-9530-e6298c2569a1"
      },
      "execution_count": null,
      "outputs": [
        {
          "output_type": "stream",
          "name": "stdout",
          "text": [
            "pu\n"
          ]
        }
      ]
    },
    {
      "cell_type": "code",
      "source": [
        "#values from right side will be in negative print from -1 ,[-5:-1]\n",
        "my_string=\"puchuuuuu\"\n",
        "print(my_string[:-1])\n",
        "print(my_string[-6:-1])"
      ],
      "metadata": {
        "colab": {
          "base_uri": "https://localhost:8080/"
        },
        "id": "D4cASaSxYNXM",
        "outputId": "50041ac8-9e9b-408d-d43d-f9c76445baf2"
      },
      "execution_count": null,
      "outputs": [
        {
          "output_type": "stream",
          "name": "stdout",
          "text": [
            "puchuuuu\n",
            "huuuu\n"
          ]
        }
      ]
    },
    {
      "cell_type": "code",
      "source": [
        "# step\n",
        "print(my_string[0:9:2])"
      ],
      "metadata": {
        "colab": {
          "base_uri": "https://localhost:8080/"
        },
        "id": "WL4gW4GpZVOw",
        "outputId": "f533c534-6259-4d70-8f25-8a41dadbfdfd"
      },
      "execution_count": null,
      "outputs": [
        {
          "output_type": "stream",
          "name": "stdout",
          "text": [
            "pcuuu\n"
          ]
        }
      ]
    },
    {
      "cell_type": "markdown",
      "source": [
        "# string concatenation"
      ],
      "metadata": {
        "id": "va6yUW5AaYLK"
      }
    },
    {
      "cell_type": "code",
      "source": [
        "word_1 = 'machine'\n",
        "word_2 = 'learning'\n",
        "print(word_1 + word_2)"
      ],
      "metadata": {
        "id": "2yfDkq6sZVsQ",
        "colab": {
          "base_uri": "https://localhost:8080/"
        },
        "outputId": "2a28c734-6b24-435d-e808-3634c47ef31d"
      },
      "execution_count": null,
      "outputs": [
        {
          "output_type": "stream",
          "name": "stdout",
          "text": [
            "machinelearning\n"
          ]
        }
      ]
    },
    {
      "cell_type": "markdown",
      "source": [
        "#Types of objects in python\n",
        "1.immutable objects\n",
        "2.mutable objects\n",
        "\n",
        "Immutable objects\n",
        "1.int\n",
        "2.float\n",
        "3.string\n",
        "4.bool\n",
        "5.tuple\n",
        "6.boolean\n",
        "\n",
        "Mutable objects\n",
        "1.list\n",
        "1.set\n",
        "3.dictionary"
      ],
      "metadata": {
        "id": "PepYMgGE_rPo"
      }
    },
    {
      "cell_type": "markdown",
      "source": [
        "#list\n",
        "list can store mutliple data types\n"
      ],
      "metadata": {
        "id": "VDND5X2u3pkx"
      }
    },
    {
      "cell_type": "code",
      "source": [
        "#list should be included in the square\n",
        "my_list=[1,2,3,4,5]\n",
        "print(my_list)\n",
        "type(my_list)"
      ],
      "metadata": {
        "colab": {
          "base_uri": "https://localhost:8080/"
        },
        "id": "PZyZ87lA3ozw",
        "outputId": "0e858f7c-064c-449f-d983-5ab59ff21c72"
      },
      "execution_count": null,
      "outputs": [
        {
          "output_type": "stream",
          "name": "stdout",
          "text": [
            "[1, 2, 3, 4, 5]\n"
          ]
        },
        {
          "output_type": "execute_result",
          "data": {
            "text/plain": [
              "list"
            ]
          },
          "metadata": {},
          "execution_count": 2
        }
      ]
    },
    {
      "cell_type": "code",
      "source": [
        "my_list=[1,2,3,4,'pujitha',True]\n",
        "print(my_list)\n",
        "type(my_list)\n",
        "\n"
      ],
      "metadata": {
        "colab": {
          "base_uri": "https://localhost:8080/"
        },
        "id": "HXRdli0v4UDG",
        "outputId": "f69ccf5f-b6d9-4ec6-8363-fcc6d534cfba"
      },
      "execution_count": null,
      "outputs": [
        {
          "output_type": "stream",
          "name": "stdout",
          "text": [
            "[1, 2, 3, 4, 'pujitha', True]\n"
          ]
        }
      ]
    },
    {
      "cell_type": "markdown",
      "source": [
        "#Lists are mutable - changegable\n",
        "lists Allows duplicates\n",
        "Operations on list\n",
        "1.append()\n",
        "2.delete()\n",
        "3.clear()\n",
        "4.copy()\n",
        "5.count()\n",
        "6.reverse()\n",
        "7.sort()\n",
        "8.indexing()\n",
        "9.len()"
      ],
      "metadata": {
        "id": "JQL7Ev9Z49eC"
      }
    },
    {
      "cell_type": "code",
      "source": [
        "#add elements to a list\n",
        "a=['pujiha',5,5,8,0.9,True]\n",
        "a.append(\"krishna\")\n",
        "print(a)\n"
      ],
      "metadata": {
        "colab": {
          "base_uri": "https://localhost:8080/"
        },
        "id": "oYrfsuCE6MVJ",
        "outputId": "0a89dc7b-ceba-46d3-dd54-08b7c0ba04ec"
      },
      "execution_count": null,
      "outputs": [
        {
          "output_type": "stream",
          "name": "stdout",
          "text": [
            "['pujiha', 5, 8, 0.9, True, 'krishna']\n"
          ]
        }
      ]
    },
    {
      "cell_type": "code",
      "source": [
        "# print elements of a list using their index\n",
        "a=['pujiha',5,8,0.9,True]\n",
        "print(a[0])\n",
        "print(a[2])\n"
      ],
      "metadata": {
        "colab": {
          "base_uri": "https://localhost:8080/"
        },
        "id": "qtMm1uzY6-zg",
        "outputId": "768132a3-7cbb-4c2a-de36-501597fbb283"
      },
      "execution_count": null,
      "outputs": [
        {
          "output_type": "stream",
          "name": "stdout",
          "text": [
            "pujiha\n",
            "8\n"
          ]
        }
      ]
    },
    {
      "cell_type": "code",
      "source": [
        "#list allows duplicate values\n",
        "a=['pujiha',5,5,8,0.9,True]\n",
        "print(a)"
      ],
      "metadata": {
        "colab": {
          "base_uri": "https://localhost:8080/"
        },
        "id": "laBaX-XM7459",
        "outputId": "9f1d050c-ee58-4457-e029-d19d7c022406"
      },
      "execution_count": null,
      "outputs": [
        {
          "output_type": "stream",
          "name": "stdout",
          "text": [
            "['pujiha', 5, 5, 8, 0.9, True]\n"
          ]
        }
      ]
    },
    {
      "cell_type": "code",
      "source": [
        "#length of a list\n",
        "a=['pujiha',5,5,8,0.9,True]\n",
        "b=['pujitha']\n",
        "print(len(a))\n",
        "print(len(b))"
      ],
      "metadata": {
        "colab": {
          "base_uri": "https://localhost:8080/"
        },
        "id": "CWAuchjB8IdJ",
        "outputId": "ef75fd7b-579c-40c5-e36d-65cecffe76cc"
      },
      "execution_count": null,
      "outputs": [
        {
          "output_type": "stream",
          "name": "stdout",
          "text": [
            "6\n",
            "1\n"
          ]
        }
      ]
    },
    {
      "cell_type": "code",
      "source": [
        "#initiating an empty list\n",
        "list_1=[]\n",
        "print(list_1)\n",
        "type(list_1)"
      ],
      "metadata": {
        "colab": {
          "base_uri": "https://localhost:8080/"
        },
        "id": "X36UCOza8pSC",
        "outputId": "2426e37b-98da-483f-e90d-10d499073f38"
      },
      "execution_count": null,
      "outputs": [
        {
          "output_type": "stream",
          "name": "stdout",
          "text": [
            "[]\n"
          ]
        },
        {
          "output_type": "execute_result",
          "data": {
            "text/plain": [
              "list"
            ]
          },
          "metadata": {},
          "execution_count": 12
        }
      ]
    },
    {
      "cell_type": "code",
      "source": [
        "list_1=[]\n",
        "list_1.append(1)\n",
        "print(list_1)\n",
        "type(list_1)"
      ],
      "metadata": {
        "colab": {
          "base_uri": "https://localhost:8080/"
        },
        "id": "sXnzlFvq_VN5",
        "outputId": "1d63a1c4-996f-4498-8dac-dbe2b936179f"
      },
      "execution_count": null,
      "outputs": [
        {
          "output_type": "stream",
          "name": "stdout",
          "text": [
            "[1]\n"
          ]
        },
        {
          "output_type": "execute_result",
          "data": {
            "text/plain": [
              "list"
            ]
          },
          "metadata": {},
          "execution_count": 13
        }
      ]
    },
    {
      "cell_type": "code",
      "source": [
        "#delete an element in the list\n",
        "a = ['pujitha',5,6,'krishna',0.9]\n",
        "print(a)\n",
        "del a[2]\n",
        "print(a)\n"
      ],
      "metadata": {
        "colab": {
          "base_uri": "https://localhost:8080/"
        },
        "id": "9-RPPXof_qsy",
        "outputId": "b36c6568-a868-458f-8c65-b6367716bcd9"
      },
      "execution_count": null,
      "outputs": [
        {
          "output_type": "stream",
          "name": "stdout",
          "text": [
            "['pujitha', 5, 6, 'krishna', 0.9]\n",
            "['pujitha', 5, 'krishna', 0.9]\n"
          ]
        }
      ]
    },
    {
      "cell_type": "code",
      "source": [
        "#pop the element in the list\n",
        "b=a.pop(0)\n",
        "print(a)\n",
        "print(b)"
      ],
      "metadata": {
        "colab": {
          "base_uri": "https://localhost:8080/"
        },
        "id": "UiO4blSYA4nB",
        "outputId": "6ca1686c-6feb-49ea-a25b-abc89d419dc6"
      },
      "execution_count": null,
      "outputs": [
        {
          "output_type": "stream",
          "name": "stdout",
          "text": [
            "[5, 0.9]\n",
            "pujitha\n"
          ]
        }
      ]
    },
    {
      "cell_type": "code",
      "source": [
        "# join two lists\n",
        "list_2=[1,'vijaya lakshmi',3,4]\n",
        "list_3=[5,6,'krishna',8]\n",
        "print(list_2+list_3)"
      ],
      "metadata": {
        "colab": {
          "base_uri": "https://localhost:8080/"
        },
        "id": "xJARJb8bBUwB",
        "outputId": "34ed4bd8-f5a4-4803-d75c-db9f3d252ae0"
      },
      "execution_count": null,
      "outputs": [
        {
          "output_type": "stream",
          "name": "stdout",
          "text": [
            "[1, 'vijaya lakshmi', 3, 4, 5, 6, 'krishna', 8]\n"
          ]
        }
      ]
    },
    {
      "cell_type": "markdown",
      "source": [
        "# Tuple\n",
        "1.tuples are in round brackets\n",
        "2. tuples are used to store mutliple items in single variable\n",
        "3.tuple items are odered ,unchangeable and allow duplicate values\n",
        "4. tuple items are in indexing from 0\n",
        "\n",
        "\n",
        "Operations on tuple\n",
        "1.count()\n",
        "2.indexing()\n",
        "3.len()\n",
        "4.join()\n"
      ],
      "metadata": {
        "id": "2m_vGt_WElg6"
      }
    },
    {
      "cell_type": "markdown",
      "source": [],
      "metadata": {
        "id": "4JbksDCOEr7n"
      }
    },
    {
      "cell_type": "code",
      "source": [
        "a = (1,2,3,4,5)\n",
        "print(a)\n",
        "type(a)"
      ],
      "metadata": {
        "colab": {
          "base_uri": "https://localhost:8080/"
        },
        "id": "HrVL5TNZGV-d",
        "outputId": "a1aa0270-443f-4f12-afdf-da7a5a549f4a"
      },
      "execution_count": null,
      "outputs": [
        {
          "output_type": "stream",
          "name": "stdout",
          "text": [
            "(1, 2, 3, 4, 5)\n"
          ]
        },
        {
          "output_type": "execute_result",
          "data": {
            "text/plain": [
              "tuple"
            ]
          },
          "metadata": {},
          "execution_count": 29
        }
      ]
    },
    {
      "cell_type": "code",
      "source": [
        "# join the two tuples\n",
        "tuple_1=(1,2,3,4,5)\n",
        "tuple_2=(6,7,8,9,10)\n",
        "tuple_3=(tuple_1,tuple_2)\n",
        "print(tuple_3)"
      ],
      "metadata": {
        "colab": {
          "base_uri": "https://localhost:8080/"
        },
        "id": "GU_7Dk9lKoFn",
        "outputId": "40dcba52-d293-4097-bbaa-fe06b9e07f34"
      },
      "execution_count": null,
      "outputs": [
        {
          "output_type": "stream",
          "name": "stdout",
          "text": [
            "((1, 2, 3, 4, 5), (6, 7, 8, 9, 10))\n"
          ]
        }
      ]
    },
    {
      "cell_type": "code",
      "source": [
        "#tuple allows mutliple data types\n",
        "tuple=(1,'vijayalakshmi','krishna',7,0.9,True)\n",
        "print(tuple)\n",
        "type(tuple)"
      ],
      "metadata": {
        "colab": {
          "base_uri": "https://localhost:8080/"
        },
        "id": "vCqZBo5bExvs",
        "outputId": "40e76beb-e442-48ea-fde0-79d883b44cf4"
      },
      "execution_count": null,
      "outputs": [
        {
          "output_type": "stream",
          "name": "stdout",
          "text": [
            "(1, 'vijayalakshmi', 'krishna', 7, 0.9, True)\n"
          ]
        },
        {
          "output_type": "execute_result",
          "data": {
            "text/plain": [
              "tuple"
            ]
          },
          "metadata": {},
          "execution_count": 30
        }
      ]
    },
    {
      "cell_type": "code",
      "source": [
        "#converting a list to a tuple"
      ],
      "metadata": {
        "id": "meo2UlNAJQa7"
      },
      "execution_count": null,
      "outputs": []
    },
    {
      "cell_type": "markdown",
      "source": [
        "#Set\n",
        "1. sets are wriiten curly brackets\n",
        "2.unordred,unindexeing ,unchangeable,dont allow duplicates"
      ],
      "metadata": {
        "id": "HeENL3kWKWyR"
      }
    },
    {
      "cell_type": "code",
      "source": [
        "my_set={1,2,3,4,5}\n",
        "print(my_set)\n",
        "type(my_set)"
      ],
      "metadata": {
        "colab": {
          "base_uri": "https://localhost:8080/"
        },
        "id": "vTjhrZbjKatM",
        "outputId": "eefb37b5-9860-4862-bdbe-709f647b773a"
      },
      "execution_count": null,
      "outputs": [
        {
          "output_type": "stream",
          "name": "stdout",
          "text": [
            "{1, 2, 3, 4, 5}\n"
          ]
        },
        {
          "output_type": "execute_result",
          "data": {
            "text/plain": [
              "set"
            ]
          },
          "metadata": {},
          "execution_count": 46
        }
      ]
    },
    {
      "cell_type": "code",
      "source": [
        "print(my_set[0])"
      ],
      "metadata": {
        "colab": {
          "base_uri": "https://localhost:8080/",
          "height": 146
        },
        "id": "VjYvjE4XM5ht",
        "outputId": "984bb72a-48c2-4044-f138-ffa0efaf953f"
      },
      "execution_count": null,
      "outputs": [
        {
          "output_type": "error",
          "ename": "TypeError",
          "evalue": "'set' object is not subscriptable",
          "traceback": [
            "\u001b[0;31m---------------------------------------------------------------------------\u001b[0m",
            "\u001b[0;31mTypeError\u001b[0m                                 Traceback (most recent call last)",
            "\u001b[0;32m<ipython-input-47-502d757570ee>\u001b[0m in \u001b[0;36m<cell line: 1>\u001b[0;34m()\u001b[0m\n\u001b[0;32m----> 1\u001b[0;31m \u001b[0mprint\u001b[0m\u001b[0;34m(\u001b[0m\u001b[0mmy_set\u001b[0m\u001b[0;34m[\u001b[0m\u001b[0;36m0\u001b[0m\u001b[0;34m]\u001b[0m\u001b[0;34m)\u001b[0m\u001b[0;34m\u001b[0m\u001b[0;34m\u001b[0m\u001b[0m\n\u001b[0m",
            "\u001b[0;31mTypeError\u001b[0m: 'set' object is not subscriptable"
          ]
        }
      ]
    },
    {
      "cell_type": "code",
      "source": [
        "# convert a list in to a set\n",
        "my_list=[1,2,3,4,5]\n",
        "print(my_list)\n",
        "type(my_list)\n",
        "my_set=set(my_list)\n",
        "print(my_set)\n",
        "type(my_set)"
      ],
      "metadata": {
        "colab": {
          "base_uri": "https://localhost:8080/"
        },
        "id": "OTn6C-jPNSuC",
        "outputId": "7f4e9b0a-2b96-4e91-ede6-67e4791685b9"
      },
      "execution_count": null,
      "outputs": [
        {
          "output_type": "stream",
          "name": "stdout",
          "text": [
            "[1, 2, 3, 4, 5]\n",
            "{1, 2, 3, 4, 5}\n"
          ]
        },
        {
          "output_type": "execute_result",
          "data": {
            "text/plain": [
              "set"
            ]
          },
          "metadata": {},
          "execution_count": 48
        }
      ]
    },
    {
      "cell_type": "code",
      "source": [
        "# set does not duplicate values\n",
        "set_1={1,2,3,4,5,1,2,3,4,5}\n",
        "print(set_1)"
      ],
      "metadata": {
        "colab": {
          "base_uri": "https://localhost:8080/"
        },
        "id": "FXOCpbEHNgdX",
        "outputId": "e9b95d35-3c5d-4e0f-b3f9-13aff38eb5b5"
      },
      "execution_count": null,
      "outputs": [
        {
          "output_type": "stream",
          "name": "stdout",
          "text": [
            "{1, 2, 3, 4, 5}\n"
          ]
        }
      ]
    },
    {
      "cell_type": "markdown",
      "source": [
        "#Dictionaries\n",
        "1.used to store data values in key values pairs\n",
        "2. ordered , changeable and not allow duplicates\n",
        "3. dictionaries are written in curly brackets and have keys and values"
      ],
      "metadata": {
        "id": "PKtQ0GDnOMNI"
      }
    },
    {
      "cell_type": "code",
      "source": [
        "# key-value pair\n",
        "my_dict={'name':'pujitha',2 :20,3 :'india'}\n",
        "print(my_dict)\n",
        "type(my_dict)"
      ],
      "metadata": {
        "colab": {
          "base_uri": "https://localhost:8080/"
        },
        "id": "ZNZJ3-a5OSyA",
        "outputId": "86dc0a87-3b40-46d5-c3b8-6a83f57b6c8c"
      },
      "execution_count": null,
      "outputs": [
        {
          "output_type": "stream",
          "name": "stdout",
          "text": [
            "{'name': 'pujitha', 2: 20, 3: 'india'}\n"
          ]
        },
        {
          "output_type": "execute_result",
          "data": {
            "text/plain": [
              "dict"
            ]
          },
          "metadata": {},
          "execution_count": 63
        }
      ]
    },
    {
      "cell_type": "code",
      "source": [
        "#change or update value\n",
        "my_dict['age']=21\n",
        "print(my_dict)"
      ],
      "metadata": {
        "colab": {
          "base_uri": "https://localhost:8080/"
        },
        "id": "Fhqj9JS2QGjO",
        "outputId": "8d3f732a-e94f-47c3-f43e-738777f29f8c"
      },
      "execution_count": null,
      "outputs": [
        {
          "output_type": "stream",
          "name": "stdout",
          "text": [
            "{'name': 'pujitha', 2: 20, 3: 'india', 'age': 21}\n"
          ]
        }
      ]
    },
    {
      "cell_type": "code",
      "source": [
        "my_dict['name']=\"krishna\"\n",
        "print(my_dict)"
      ],
      "metadata": {
        "colab": {
          "base_uri": "https://localhost:8080/"
        },
        "id": "OFfKHSkrQbMb",
        "outputId": "192a56c6-93ba-4b71-c199-83ab4baad8f9"
      },
      "execution_count": null,
      "outputs": [
        {
          "output_type": "stream",
          "name": "stdout",
          "text": [
            "{'name': 'krishna', 2: 20, 3: 'india', 'age': 21}\n"
          ]
        }
      ]
    },
    {
      "cell_type": "code",
      "source": [
        "#deleting of an element\n",
        "del my_dict[3]\n",
        "print(my_dict)"
      ],
      "metadata": {
        "colab": {
          "base_uri": "https://localhost:8080/"
        },
        "id": "7oIb6QbNWEWe",
        "outputId": "e91ea4c0-eb28-4a5d-8c47-8c085b688b4b"
      },
      "execution_count": null,
      "outputs": [
        {
          "output_type": "stream",
          "name": "stdout",
          "text": [
            "{'name': 'krishna', 2: 20, 'age': 21}\n"
          ]
        }
      ]
    },
    {
      "cell_type": "code",
      "source": [
        "my_dict.pop(2)\n",
        "print(my_dict)"
      ],
      "metadata": {
        "colab": {
          "base_uri": "https://localhost:8080/"
        },
        "id": "shhvzXBrWY1E",
        "outputId": "dc32a854-2114-4317-c64f-50855ad990c6"
      },
      "execution_count": null,
      "outputs": [
        {
          "output_type": "stream",
          "name": "stdout",
          "text": [
            "{'name': 'krishna', 'age': 21}\n"
          ]
        }
      ]
    },
    {
      "cell_type": "code",
      "source": [
        "my_dict.clear()\n",
        "print(my_dict)"
      ],
      "metadata": {
        "colab": {
          "base_uri": "https://localhost:8080/"
        },
        "id": "8-dnnGO3XIt0",
        "outputId": "a390a291-f4ef-4560-c478-fbfdcdc9dba6"
      },
      "execution_count": null,
      "outputs": [
        {
          "output_type": "stream",
          "name": "stdout",
          "text": [
            "{}\n"
          ]
        }
      ]
    },
    {
      "cell_type": "markdown",
      "source": [
        "#Operators in python:\n",
        "1. Arithemetic\n",
        "2.Assignment\n",
        "3.comparison\n",
        "4.logical\n",
        "5.identify\n",
        "6.membership\n"
      ],
      "metadata": {
        "id": "NYImUXiMZ5VQ"
      }
    },
    {
      "cell_type": "markdown",
      "source": [
        "# 1. Arithmetic operators"
      ],
      "metadata": {
        "id": "lfIQMEWsai8N"
      }
    },
    {
      "cell_type": "code",
      "source": [
        "a = 9\n",
        "b = 10\n",
        "print(a+b) #add\n",
        "print(a-b) #sub\n",
        "print(a*b) #multipication\n",
        "print(a/b) #division(quotient)\n",
        "print(a//b) # floor division\n",
        "print(a%b) #remainder"
      ],
      "metadata": {
        "colab": {
          "base_uri": "https://localhost:8080/"
        },
        "id": "rfMfUwwMacd0",
        "outputId": "f6363800-bff3-402d-8f79-4efda94beef1"
      },
      "execution_count": null,
      "outputs": [
        {
          "output_type": "stream",
          "name": "stdout",
          "text": [
            "19\n",
            "-1\n",
            "90\n",
            "0.9\n",
            "0\n",
            "9\n"
          ]
        }
      ]
    },
    {
      "cell_type": "markdown",
      "source": [],
      "metadata": {
        "id": "np0Ewx9ulJtP"
      }
    },
    {
      "cell_type": "markdown",
      "source": [
        "# 2.Assignment operators\n",
        "\n",
        "1.+=\n",
        "2.-=\n",
        "3.*=\n",
        "4.**=\n",
        "5./=\n",
        "6.%="
      ],
      "metadata": {
        "id": "uxRHqSqncgss"
      }
    },
    {
      "cell_type": "code",
      "source": [
        "a=5\n",
        "print(a)"
      ],
      "metadata": {
        "colab": {
          "base_uri": "https://localhost:8080/"
        },
        "id": "0nuE6T4qcxIg",
        "outputId": "416f7dd8-2992-48a4-c022-15c5e1052c94"
      },
      "execution_count": null,
      "outputs": [
        {
          "output_type": "stream",
          "name": "stdout",
          "text": [
            "5\n"
          ]
        }
      ]
    },
    {
      "cell_type": "code",
      "source": [
        "a=5\n",
        "a+=5 #a=a+5\n",
        "print(a)"
      ],
      "metadata": {
        "colab": {
          "base_uri": "https://localhost:8080/"
        },
        "id": "PfK1sGNFc2za",
        "outputId": "a3137446-70ac-4e8f-dae1-dff5b6b5c85d"
      },
      "execution_count": null,
      "outputs": [
        {
          "output_type": "stream",
          "name": "stdout",
          "text": [
            "10\n"
          ]
        }
      ]
    },
    {
      "cell_type": "code",
      "source": [
        "b=5\n",
        "c=5\n",
        "b -=2 # b=b-2\n",
        "c*=2 #c=c*5\n",
        "print(b)\n",
        "print(c)"
      ],
      "metadata": {
        "colab": {
          "base_uri": "https://localhost:8080/"
        },
        "id": "5nPIlHiKd7a7",
        "outputId": "8b06241c-000b-44cf-bc60-602361a1c24f"
      },
      "execution_count": null,
      "outputs": [
        {
          "output_type": "stream",
          "name": "stdout",
          "text": [
            "3\n",
            "10\n"
          ]
        }
      ]
    },
    {
      "cell_type": "markdown",
      "source": [
        "# 3. Comparison operators\n",
        "\n",
        " ==\tEqual\tx == y\n",
        " !=\tNot equal\tx != y\n",
        " >\tGreater than\tx > y\n",
        " <\tLess than\tx < y\n",
        " >= Greater than or equal to\tx >= y\n",
        " <=\tLess than or equal to\tx <= y"
      ],
      "metadata": {
        "id": "h0MKWHmdf8So"
      }
    },
    {
      "cell_type": "code",
      "source": [
        "a=15\n",
        "b=10\n",
        "print(a==b)\n",
        "print(a!=b)\n",
        "print(a>b)\n",
        "print(a<b)\n",
        "print(a>=b)\n",
        "print(a<=b)\n"
      ],
      "metadata": {
        "colab": {
          "base_uri": "https://localhost:8080/"
        },
        "id": "yQ4Dgy49gIwv",
        "outputId": "449cfc69-3c47-4d97-9e52-d87a8169db58"
      },
      "execution_count": null,
      "outputs": [
        {
          "output_type": "stream",
          "name": "stdout",
          "text": [
            "False\n",
            "True\n",
            "True\n",
            "False\n",
            "True\n",
            "False\n"
          ]
        }
      ]
    },
    {
      "cell_type": "markdown",
      "source": [
        "# 4.Logical operators\n",
        "\n",
        "(and)\n",
        "\tReturns True if both statements are true\tx < 5 and  x < 10\n",
        "(or)\n",
        "  Returns True if one of the statements is true\tx < 5 or x < 4\n",
        "(not)\n",
        "\tReverse the result, returns False if the result is true\tnot(x < 5 and x < 10"
      ],
      "metadata": {
        "id": "HLsNcceQiA92"
      }
    },
    {
      "cell_type": "code",
      "source": [
        "x = 5\n",
        "\n",
        "print(x > 3 and x < 10)\n",
        "\n",
        "print(x > 3 or x < 4)\n",
        "\n",
        "print(not(x > 3 and x < 10))"
      ],
      "metadata": {
        "colab": {
          "base_uri": "https://localhost:8080/"
        },
        "id": "Ahi9EQfdih8S",
        "outputId": "cad53660-e2d8-4551-a820-56a0cca49e52"
      },
      "execution_count": null,
      "outputs": [
        {
          "output_type": "stream",
          "name": "stdout",
          "text": [
            "True\n",
            "True\n",
            "False\n"
          ]
        }
      ]
    },
    {
      "cell_type": "markdown",
      "source": [
        "# 5.Identity Operators\n",
        "\n",
        "(is)\n",
        "  Returns True if both variables are the same object\tx is y\n",
        "(is not)\n",
        "\tReturns True if both variables are not the same object\tx is not y"
      ],
      "metadata": {
        "id": "_yl30h2cjenG"
      }
    },
    {
      "cell_type": "markdown",
      "source": [],
      "metadata": {
        "id": "iNDokZKmlXWw"
      }
    },
    {
      "cell_type": "code",
      "source": [
        "x = [\"apple\", \"banana\"]\n",
        "y = [\"apple\", \"banana\"]\n",
        "z = x\n",
        "\n",
        "print(x is z)\n",
        "\n",
        "print(x is y)\n",
        "\n",
        "print(x == y)"
      ],
      "metadata": {
        "colab": {
          "base_uri": "https://localhost:8080/"
        },
        "id": "e6cOKu20kD7Y",
        "outputId": "db0c5b68-406f-4389-86c2-e3e1e7246bba"
      },
      "execution_count": null,
      "outputs": [
        {
          "output_type": "stream",
          "name": "stdout",
          "text": [
            "True\n",
            "False\n",
            "True\n"
          ]
        }
      ]
    },
    {
      "cell_type": "code",
      "source": [
        "x = [\"apple\", \"banana\"]\n",
        "y = [\"apple\", \"banana\"]\n",
        "z = x\n",
        "\n",
        "print(x is not z)\n",
        "\n",
        "print(x is not y)\n",
        "\n",
        "print(x != y)\n"
      ],
      "metadata": {
        "colab": {
          "base_uri": "https://localhost:8080/"
        },
        "id": "Arxp8Io1kWva",
        "outputId": "4b836720-50a9-4195-8384-a54ee3a7d4c2"
      },
      "execution_count": null,
      "outputs": [
        {
          "output_type": "stream",
          "name": "stdout",
          "text": [
            "False\n",
            "True\n",
            "False\n"
          ]
        }
      ]
    },
    {
      "cell_type": "markdown",
      "source": [
        "# 6.membership operations\n",
        "1.(in)\n",
        " \t Returns True if a sequence with the specified value is present in the object\n",
        "   x in y\n",
        "2.(not in)\n",
        "\tReturns True if a sequence with the specified value is not present in the object\n",
        "  **x not in y**"
      ],
      "metadata": {
        "id": "DAssUtEqlZbZ"
      }
    },
    {
      "cell_type": "code",
      "source": [
        "x = [\"apple\", \"banana\"]\n",
        "\n",
        "print(\"banana\" in x)\n",
        "\n"
      ],
      "metadata": {
        "colab": {
          "base_uri": "https://localhost:8080/"
        },
        "id": "6cd956ALmDVX",
        "outputId": "0d287b30-c5c4-44fc-e077-16be885255f2"
      },
      "execution_count": null,
      "outputs": [
        {
          "output_type": "stream",
          "name": "stdout",
          "text": [
            "True\n"
          ]
        }
      ]
    },
    {
      "cell_type": "code",
      "source": [
        "x = [\"apple\", \"banana\"]\n",
        "\n",
        "print(\"pineapple\" not in x)\n"
      ],
      "metadata": {
        "colab": {
          "base_uri": "https://localhost:8080/"
        },
        "id": "e0mN7iI-mVRY",
        "outputId": "ee8742e2-c12b-42cd-eaac-83cbeaacd272"
      },
      "execution_count": null,
      "outputs": [
        {
          "output_type": "stream",
          "name": "stdout",
          "text": [
            "True\n"
          ]
        }
      ]
    },
    {
      "cell_type": "markdown",
      "source": [
        "# if-else statement\n",
        "\n",
        "The if-else statement is used to execute both the true part and the false part of a given condition."
      ],
      "metadata": {
        "id": "pHCNTz5PnVME"
      }
    },
    {
      "cell_type": "code",
      "source": [
        "def compare_numbers():\n",
        "    # Get user inputs\n",
        "    a = int(input(\"Enter the first number (a): \"))\n",
        "    b = int(input(\"Enter the second number (b): \"))\n",
        "\n",
        "    # Compare the numbers\n",
        "    if b > a:\n",
        "        print(\"b is greater than a\")\n",
        "    else:\n",
        "        print(\"a is greater than b\")\n",
        "\n",
        "# Call the function\n",
        "compare_numbers()\n"
      ],
      "metadata": {
        "colab": {
          "base_uri": "https://localhost:8080/"
        },
        "id": "A5KVfVXanadS",
        "outputId": "479ea8a7-de86-483a-bc42-fdf71cdd4366"
      },
      "execution_count": null,
      "outputs": [
        {
          "output_type": "stream",
          "name": "stdout",
          "text": [
            "Enter the first number (a): 9\n",
            "Enter the second number (b): 6\n",
            "a is greater than b\n"
          ]
        }
      ]
    },
    {
      "cell_type": "markdown",
      "source": [
        "# Elif-condition\n",
        "\n",
        "The elif keyword is Python's way of saying \"if the previous conditions were not true, then try this condition\"."
      ],
      "metadata": {
        "id": "eBYonStOX_HN"
      }
    },
    {
      "cell_type": "code",
      "source": [
        "a = 33\n",
        "b = 33\n",
        "if b > a:\n",
        "  print(\"b is greater than a\")\n",
        "elif a == b:\n",
        "  print(\"a and b are equal\")"
      ],
      "metadata": {
        "colab": {
          "base_uri": "https://localhost:8080/"
        },
        "id": "91V7puGpXgic",
        "outputId": "a119b0e6-2617-4a3e-d439-50362374ef7a"
      },
      "execution_count": null,
      "outputs": [
        {
          "output_type": "stream",
          "name": "stdout",
          "text": [
            "a and b are equal\n"
          ]
        }
      ]
    },
    {
      "cell_type": "code",
      "source": [
        "# Define the calculator functions\n",
        "def add(a, b):\n",
        "    return a + b\n",
        "\n",
        "def subtract(a, b):\n",
        "    return a - b\n",
        "\n",
        "def multiply(a, b):\n",
        "    return a * b\n",
        "\n",
        "def divide(a, b):\n",
        "    if b != 0:\n",
        "        return a / b\n",
        "    else:\n",
        "        return \"Error: Division by zero is not allowed.\"\n",
        "\n",
        "# Main calculator function\n",
        "def calculator():\n",
        "    print(\"Welcome to the Calculator Program!\")\n",
        "    print(\"Choose an operation:\")\n",
        "    print(\"1. Addition\")\n",
        "    print(\"2. Subtraction\")\n",
        "    print(\"3. Multiplication\")\n",
        "    print(\"4. Division\")\n",
        "\n",
        "    choice = input(\"Enter the number corresponding to your choice (1/2/3/4): \")\n",
        "\n",
        "    # Check for valid input\n",
        "    if choice in ['1', '2', '3', '4']:\n",
        "        num1 = float(input(\"Enter the first number: \"))\n",
        "        num2 = float(input(\"Enter the second number: \"))\n",
        "\n",
        "        if choice == '1':\n",
        "            result = add(num1, num2)\n",
        "            print(f\"The result of addition is: {result}\")\n",
        "        elif choice == '2':\n",
        "            result = subtract(num1, num2)\n",
        "            print(f\"The result of subtraction is: {result}\")\n",
        "        elif choice == '3':\n",
        "            result = multiply(num1, num2)\n",
        "            print(f\"The result of multiplication is: {result}\")\n",
        "        elif choice == '4':\n",
        "            result = divide(num1, num2)\n",
        "            print(f\"The result of division is: {result}\")\n",
        "    else:\n",
        "        print(\"Invalid input! Please choose a valid operation.\")\n",
        "\n",
        "# Run the calculator\n",
        "calculator()\n"
      ],
      "metadata": {
        "colab": {
          "base_uri": "https://localhost:8080/"
        },
        "id": "SvnLsToXYqyp",
        "outputId": "a1ea7f42-3932-4ca1-be94-6b470eecab76"
      },
      "execution_count": null,
      "outputs": [
        {
          "output_type": "stream",
          "name": "stdout",
          "text": [
            "Welcome to the Calculator Program!\n",
            "Choose an operation:\n",
            "1. Addition\n",
            "2. Subtraction\n",
            "3. Multiplication\n",
            "4. Division\n",
            "Enter the number corresponding to your choice (1/2/3/4): 2\n",
            "Enter the first number: 5\n",
            "Enter the second number: 5\n",
            "The result of subtraction is: 0.0\n"
          ]
        }
      ]
    },
    {
      "cell_type": "markdown",
      "source": [
        "#Nested If\n",
        "You can have if statements inside if statements, this is called nested if statements."
      ],
      "metadata": {
        "id": "VEsfMt3WagcO"
      }
    },
    {
      "cell_type": "code",
      "source": [
        "x = int(input(\"enter a number : \"))\n",
        "\n",
        "if x > 10:\n",
        "  print(\"Above ten,\")\n",
        "  if x > 20:\n",
        "    print(\"and also above 20!\")\n",
        "  else:\n",
        "    print(\"but not above 20.\")"
      ],
      "metadata": {
        "colab": {
          "base_uri": "https://localhost:8080/"
        },
        "id": "aQ9liVwTapwF",
        "outputId": "50561f0a-aa0f-4b29-b581-adf99d2ce3fd"
      },
      "execution_count": null,
      "outputs": [
        {
          "output_type": "stream",
          "name": "stdout",
          "text": [
            "enter a number : 24\n",
            "Above ten,\n",
            "and also above 20!\n"
          ]
        }
      ]
    },
    {
      "cell_type": "markdown",
      "source": [
        "#Loops\n",
        "A for loop is used for iterating over a sequence (that is either a list, a tuple, a dictionary, a set, or a string).\n"
      ],
      "metadata": {
        "id": "kAAVBk_FbJe5"
      }
    },
    {
      "cell_type": "code",
      "source": [
        "#print each fruit in a fruit list:\n",
        "fruits = [\"apple\", \"banana\", \"cherry\"]\n",
        "for x in fruits:\n",
        "  print(x)"
      ],
      "metadata": {
        "colab": {
          "base_uri": "https://localhost:8080/"
        },
        "id": "uZbGrpS1bahf",
        "outputId": "f2026223-cb9d-41f6-90d9-587146a629f4"
      },
      "execution_count": null,
      "outputs": [
        {
          "output_type": "stream",
          "name": "stdout",
          "text": [
            "apple\n",
            "banana\n",
            "cherry\n"
          ]
        }
      ]
    },
    {
      "cell_type": "code",
      "source": [
        "#Loop through the letters in the word \"banana\":\n",
        "for x in \"banana\":\n",
        "  print(x)"
      ],
      "metadata": {
        "colab": {
          "base_uri": "https://localhost:8080/"
        },
        "id": "Gbl--pKNbs68",
        "outputId": "5202f315-f775-428f-c4f1-81850402ccfb"
      },
      "execution_count": null,
      "outputs": [
        {
          "output_type": "stream",
          "name": "stdout",
          "text": [
            "b\n",
            "a\n",
            "n\n",
            "a\n",
            "n\n",
            "a\n"
          ]
        }
      ]
    },
    {
      "cell_type": "markdown",
      "source": [
        "#Range function\n",
        "The range() function returns a sequence of numbers, starting from 0 by default, and increments by 1 (by default), and ends at a specified number.\n"
      ],
      "metadata": {
        "id": "nP_mgK5tcL20"
      }
    },
    {
      "cell_type": "code",
      "source": [
        "for x in range(6):\n",
        "  print(x)"
      ],
      "metadata": {
        "colab": {
          "base_uri": "https://localhost:8080/"
        },
        "id": "cchnB8jMcVfM",
        "outputId": "535bcdfe-e734-41b7-996c-28e1a0ee07d6"
      },
      "execution_count": null,
      "outputs": [
        {
          "output_type": "stream",
          "name": "stdout",
          "text": [
            "0\n",
            "1\n",
            "2\n",
            "3\n",
            "4\n",
            "5\n"
          ]
        }
      ]
    },
    {
      "cell_type": "code",
      "source": [
        "#Increment the sequence with 3 (default is 1):\n",
        "for x in range(2, 30, 3):#start=2 , end=30  step=3\n",
        "  print(x)"
      ],
      "metadata": {
        "colab": {
          "base_uri": "https://localhost:8080/"
        },
        "id": "-ph6BIGTchZL",
        "outputId": "e754df1a-075a-4d13-80cc-556a6c0f72c9"
      },
      "execution_count": null,
      "outputs": [
        {
          "output_type": "stream",
          "name": "stdout",
          "text": [
            "2\n",
            "5\n",
            "8\n",
            "11\n",
            "14\n",
            "17\n",
            "20\n",
            "23\n",
            "26\n",
            "29\n"
          ]
        }
      ]
    },
    {
      "cell_type": "code",
      "source": [
        "#The else keyword in a for loop specifies a block of code to be executed when the loop is finished:\n",
        "for x in range(6):\n",
        "  print(x)\n",
        "else:\n",
        "  print(\"Finally finished!\")"
      ],
      "metadata": {
        "colab": {
          "base_uri": "https://localhost:8080/"
        },
        "id": "P-ReBEVbc_WF",
        "outputId": "17c4f29b-7629-4354-98d1-fd2d1fd5200a"
      },
      "execution_count": null,
      "outputs": [
        {
          "output_type": "stream",
          "name": "stdout",
          "text": [
            "0\n",
            "1\n",
            "2\n",
            "3\n",
            "4\n",
            "5\n",
            "Finally finished!\n"
          ]
        }
      ]
    },
    {
      "cell_type": "markdown",
      "source": [
        "#Nested loops\n",
        "A nested loop is a loop inside a loop.\n",
        "\n",
        "The \"inner loop\" will be executed one time for each iteration of the \"outer loop\":"
      ],
      "metadata": {
        "id": "J4kpy6_ZdcWP"
      }
    },
    {
      "cell_type": "code",
      "source": [
        "adj = [\"red\", \"big\", \"tasty\"]\n",
        "fruits = [\"apple\", \"banana\", \"cherry\"]\n",
        "\n",
        "for x in adj:\n",
        "  for y in fruits:\n",
        "    print(x, y)"
      ],
      "metadata": {
        "colab": {
          "base_uri": "https://localhost:8080/"
        },
        "id": "GuN_ExEHdlEh",
        "outputId": "5d3909a4-69ff-40b4-ae5e-6eaaa0c56a28"
      },
      "execution_count": null,
      "outputs": [
        {
          "output_type": "stream",
          "name": "stdout",
          "text": [
            "red apple\n",
            "red banana\n",
            "red cherry\n",
            "big apple\n",
            "big banana\n",
            "big cherry\n",
            "tasty apple\n",
            "tasty banana\n",
            "tasty cherry\n"
          ]
        }
      ]
    },
    {
      "cell_type": "markdown",
      "source": [
        "#While loops\n",
        "With the while loop we can execute a set of statements as long as a condition is true."
      ],
      "metadata": {
        "id": "7PbLBnoEd34z"
      }
    },
    {
      "cell_type": "code",
      "source": [
        "i = 1\n",
        "while i < 6:\n",
        "  print(i)\n",
        "  i += 1"
      ],
      "metadata": {
        "colab": {
          "base_uri": "https://localhost:8080/"
        },
        "id": "jDs7ZFiPd99o",
        "outputId": "15873944-f263-41ac-fa91-1d762dcc7372"
      },
      "execution_count": null,
      "outputs": [
        {
          "output_type": "stream",
          "name": "stdout",
          "text": [
            "1\n",
            "2\n",
            "3\n",
            "4\n",
            "5\n"
          ]
        }
      ]
    },
    {
      "cell_type": "markdown",
      "source": [
        "#The continue Statement\n",
        "With the continue statement we can stop the current iteration, and continue with the next:\n",
        "\n"
      ],
      "metadata": {
        "id": "91WFgiO6eMzX"
      }
    },
    {
      "cell_type": "code",
      "source": [
        "i = 0\n",
        "while i < 6:\n",
        "  i += 1\n",
        "  if i == 3:\n",
        "    continue\n",
        "  print(i)"
      ],
      "metadata": {
        "colab": {
          "base_uri": "https://localhost:8080/"
        },
        "id": "5njCiVkZePIc",
        "outputId": "ef9ebcd5-0a70-42bb-f220-7301d86995a2"
      },
      "execution_count": null,
      "outputs": [
        {
          "output_type": "stream",
          "name": "stdout",
          "text": [
            "1\n",
            "2\n",
            "4\n",
            "5\n",
            "6\n"
          ]
        }
      ]
    },
    {
      "cell_type": "markdown",
      "source": [
        "#The break Statement\n",
        "With the break statement we can stop the loop even if the while condition is true:"
      ],
      "metadata": {
        "id": "ZdsoXesidZJk"
      }
    },
    {
      "cell_type": "code",
      "source": [
        "i = 1\n",
        "while i < 6:\n",
        "  print(i)\n",
        "  if i == 3:\n",
        "    break\n",
        "  i += 1"
      ],
      "metadata": {
        "colab": {
          "base_uri": "https://localhost:8080/"
        },
        "id": "j_MvF5CKejdI",
        "outputId": "517550d0-0d0a-4427-c194-1abefc7ccc75"
      },
      "execution_count": null,
      "outputs": [
        {
          "output_type": "stream",
          "name": "stdout",
          "text": [
            "1\n",
            "2\n",
            "3\n"
          ]
        }
      ]
    },
    {
      "cell_type": "markdown",
      "source": [
        "#The else Statement\n",
        "With the else statement we can run a block of code once when the condition no longer is true:"
      ],
      "metadata": {
        "id": "qZgC4CaFesu1"
      }
    },
    {
      "cell_type": "code",
      "source": [
        "i = 1\n",
        "while i < 6:\n",
        "  print(i)\n",
        "  i += 1\n",
        "else:\n",
        "  print(\"i is no longer less than 6\")"
      ],
      "metadata": {
        "colab": {
          "base_uri": "https://localhost:8080/"
        },
        "id": "EdhAyMkDexyg",
        "outputId": "3e55427e-242e-4e9f-ebc8-dd8b8569a656"
      },
      "execution_count": null,
      "outputs": [
        {
          "output_type": "stream",
          "name": "stdout",
          "text": [
            "1\n",
            "2\n",
            "3\n",
            "4\n",
            "5\n",
            "i is no longer less than 6\n"
          ]
        }
      ]
    },
    {
      "cell_type": "markdown",
      "source": [
        "#Functions\n",
        "A function is a block of code which only runs when it is called."
      ],
      "metadata": {
        "id": "cdR7hXEcfB1u"
      }
    },
    {
      "cell_type": "code",
      "source": [
        "#Creating a Function\n",
        "def my_function():\n",
        "  print(\"Hello from a function\")\n"
      ],
      "metadata": {
        "id": "T3Yhi_vCfJz8"
      },
      "execution_count": null,
      "outputs": []
    },
    {
      "cell_type": "markdown",
      "source": [
        "# factorial of a number\n",
        "factorial of 5 = 5*4*3*2*1=120\n"
      ],
      "metadata": {
        "id": "IW8WC335hoCE"
      }
    },
    {
      "cell_type": "code",
      "source": [
        "num=int(input(\"enter a number : \"))\n",
        "factorial=1\n",
        "if num<0:\n",
        "  print(\"factorial does not exist for negative numbers\")\n",
        "elif num==0:\n",
        "    print(\"the factorial of 0 is 1\")\n",
        "else:\n",
        "    for i in range(1,num+1):\n",
        "        factorial=factorial*i\n",
        "        print(\"the factorial of\",num,\"is\",factorial)"
      ],
      "metadata": {
        "colab": {
          "base_uri": "https://localhost:8080/"
        },
        "id": "OaGBd6N2hr5X",
        "outputId": "c6073bfc-a9bb-4332-925d-baf5e020a348"
      },
      "execution_count": null,
      "outputs": [
        {
          "output_type": "stream",
          "name": "stdout",
          "text": [
            "enter a number : 5\n",
            "the factorial of 5 is 1\n",
            "the factorial of 5 is 2\n",
            "the factorial of 5 is 6\n",
            "the factorial of 5 is 24\n",
            "the factorial of 5 is 120\n"
          ]
        }
      ]
    },
    {
      "cell_type": "code",
      "source": [
        "def factorial_value(num):\n",
        "   factorial=1\n",
        "\n",
        "   if num<0:\n",
        "       return\"factorial does not exist for negative numbers\"\n",
        "   elif num==0:\n",
        "        return\"the factorial of 0 is 1\"\n",
        "   else:\n",
        "        for i in range(1,num+1):\n",
        "            factorial=factorial*i\n",
        "        return factorial\n",
        "num=int(input(\"enter a number : \"))\n",
        "print(factorial_value(num))"
      ],
      "metadata": {
        "colab": {
          "base_uri": "https://localhost:8080/"
        },
        "id": "M4YfrVOwi6Pm",
        "outputId": "b3189535-6e31-4f10-ea7a-506ca6a1d643"
      },
      "execution_count": null,
      "outputs": [
        {
          "output_type": "stream",
          "name": "stdout",
          "text": [
            "enter a number : 6\n",
            "720\n"
          ]
        }
      ]
    },
    {
      "cell_type": "code",
      "source": [
        "print(factorial_value(6))"
      ],
      "metadata": {
        "colab": {
          "base_uri": "https://localhost:8080/"
        },
        "id": "yn2hFXkkj77S",
        "outputId": "844ac6ec-9767-4b33-ad47-8e1acf7d527f"
      },
      "execution_count": null,
      "outputs": [
        {
          "output_type": "stream",
          "name": "stdout",
          "text": [
            "720\n"
          ]
        }
      ]
    },
    {
      "cell_type": "markdown",
      "source": [
        "#function arguments\n",
        "1.Information can be passed into functions as arguments.\n",
        "\n",
        "2. Arguments are specified after the function name, inside the parentheses. You can add as many arguments as you want, just separate them with a comma."
      ],
      "metadata": {
        "id": "GYB-RU8xfl0k"
      }
    },
    {
      "cell_type": "code",
      "source": [
        "def my_function(fname):\n",
        "  print(fname + \" Refsnes\")\n",
        "\n",
        "my_function(\"Emil\")\n",
        "my_function(\"Tobias\")\n",
        "my_function(\"Linus\")"
      ],
      "metadata": {
        "colab": {
          "base_uri": "https://localhost:8080/"
        },
        "id": "0u1vcDhpf1qo",
        "outputId": "42791ac5-2160-41cb-80fd-458c55ce370d"
      },
      "execution_count": null,
      "outputs": [
        {
          "output_type": "stream",
          "name": "stdout",
          "text": [
            "Emil Refsnes\n",
            "Tobias Refsnes\n",
            "Linus Refsnes\n"
          ]
        }
      ]
    },
    {
      "cell_type": "markdown",
      "source": [
        "#Num py - numerical python\n",
        "advantages of numpu arrays\n",
        "1.allows several mathematical operations\n",
        "2.faster operations"
      ],
      "metadata": {
        "id": "GQ76ZQAck689"
      }
    },
    {
      "cell_type": "code",
      "source": [
        "import numpy as np"
      ],
      "metadata": {
        "id": "3WFyvbN7lEbG"
      },
      "execution_count": null,
      "outputs": []
    },
    {
      "cell_type": "code",
      "source": [
        "from time import process_time"
      ],
      "metadata": {
        "id": "3VTmVN-WpQph"
      },
      "execution_count": null,
      "outputs": []
    },
    {
      "cell_type": "code",
      "source": [
        "python_list=[i for i in range(10000)]\n",
        "\n",
        "start_time = process_time()\n",
        "\n",
        "python_list = [i+5 for i in python_list]\n",
        "\n",
        "end_time =process_time()\n",
        "\n",
        "print (end_time - start_time)"
      ],
      "metadata": {
        "colab": {
          "base_uri": "https://localhost:8080/"
        },
        "id": "ITXS4Jfuo_No",
        "outputId": "d2b2015e-bd96-4c39-84a0-28b3ebf9768f"
      },
      "execution_count": null,
      "outputs": [
        {
          "output_type": "stream",
          "name": "stdout",
          "text": [
            "0.0009230180000017185\n"
          ]
        }
      ]
    },
    {
      "cell_type": "code",
      "source": [
        "np_array = np.array([i for i in range(10000)])\n",
        "\n",
        "start_time=process_time()\n",
        "\n",
        "np_array +=5\n",
        "\n",
        "end_time=process_time()\n",
        "\n",
        "print(end_time-start_time)"
      ],
      "metadata": {
        "colab": {
          "base_uri": "https://localhost:8080/"
        },
        "id": "XmG6FCH-op7b",
        "outputId": "fdb17eac-c841-49d0-f5b1-b17969cf0033"
      },
      "execution_count": null,
      "outputs": [
        {
          "output_type": "stream",
          "name": "stdout",
          "text": [
            "0.0014941069999991896\n"
          ]
        }
      ]
    },
    {
      "cell_type": "code",
      "source": [
        "#create a list\n",
        "list=[1,2,3,4,5]\n",
        "print(list)\n",
        "type(list)"
      ],
      "metadata": {
        "colab": {
          "base_uri": "https://localhost:8080/"
        },
        "id": "Duzhj-hisHyW",
        "outputId": "9b1ca630-b454-46d4-ceb2-4ddcaa0e734b"
      },
      "execution_count": null,
      "outputs": [
        {
          "output_type": "stream",
          "name": "stdout",
          "text": [
            "[1, 2, 3, 4, 5]\n"
          ]
        },
        {
          "output_type": "execute_result",
          "data": {
            "text/plain": [
              "list"
            ]
          },
          "metadata": {},
          "execution_count": 57
        }
      ]
    },
    {
      "cell_type": "code",
      "source": [
        "#create a list using a nump py\n",
        "a=np.array([1,2,3,4,5])\n",
        "print(a)\n",
        "type(a)"
      ],
      "metadata": {
        "colab": {
          "base_uri": "https://localhost:8080/"
        },
        "id": "lSfWzgl3t2DQ",
        "outputId": "a7286673-7830-4c89-a25f-e4def3adba7b"
      },
      "execution_count": null,
      "outputs": [
        {
          "output_type": "stream",
          "name": "stdout",
          "text": [
            "[1 2 3 4 5]\n"
          ]
        },
        {
          "output_type": "execute_result",
          "data": {
            "text/plain": [
              "numpy.ndarray"
            ]
          },
          "metadata": {},
          "execution_count": 60
        }
      ]
    },
    {
      "cell_type": "code",
      "source": [
        "a.shape"
      ],
      "metadata": {
        "colab": {
          "base_uri": "https://localhost:8080/"
        },
        "id": "G5Xp34Hiukul",
        "outputId": "a788497b-1d7f-45f6-ac0f-b24cfb849dc8"
      },
      "execution_count": null,
      "outputs": [
        {
          "output_type": "execute_result",
          "data": {
            "text/plain": [
              "(5,)"
            ]
          },
          "metadata": {},
          "execution_count": 62
        }
      ]
    },
    {
      "cell_type": "code",
      "source": [
        "#creating a two dimensional array\n",
        "b = np.array([(1,2,3,4),(5,6,7,8)])\n",
        "print(b)"
      ],
      "metadata": {
        "colab": {
          "base_uri": "https://localhost:8080/"
        },
        "id": "E7gZhxwEuuuh",
        "outputId": "87423f3f-78f7-4689-8ef8-7aca209ddaa1"
      },
      "execution_count": null,
      "outputs": [
        {
          "output_type": "stream",
          "name": "stdout",
          "text": [
            "[[1 2 3 4]\n",
            " [5 6 7 8]]\n"
          ]
        }
      ]
    },
    {
      "cell_type": "code",
      "source": [
        "b.shape"
      ],
      "metadata": {
        "colab": {
          "base_uri": "https://localhost:8080/"
        },
        "id": "A3J9HBmivQyb",
        "outputId": "9be9405e-59e9-49e8-8b89-5e96224bc248"
      },
      "execution_count": null,
      "outputs": [
        {
          "output_type": "execute_result",
          "data": {
            "text/plain": [
              "(2, 4)"
            ]
          },
          "metadata": {},
          "execution_count": 66
        }
      ]
    },
    {
      "cell_type": "markdown",
      "source": [
        "#  intial place holders in numpy arrays"
      ],
      "metadata": {
        "id": "NXcRoedjVnJN"
      }
    },
    {
      "cell_type": "code",
      "source": [
        "#create a numpy array of zeros\n",
        "import numpy as np\n",
        "c=np.zeros((4,5))\n",
        "print(c)\n"
      ],
      "metadata": {
        "id": "DjKMcUqXv13Y",
        "colab": {
          "base_uri": "https://localhost:8080/"
        },
        "outputId": "99ab9600-eefe-4008-ec31-415e1deca6f2"
      },
      "execution_count": null,
      "outputs": [
        {
          "output_type": "stream",
          "name": "stdout",
          "text": [
            "[[0. 0. 0. 0. 0.]\n",
            " [0. 0. 0. 0. 0.]\n",
            " [0. 0. 0. 0. 0.]\n",
            " [0. 0. 0. 0. 0.]]\n"
          ]
        }
      ]
    },
    {
      "cell_type": "code",
      "source": [
        "#create a numpy array of ones\n",
        "d=np.ones((3,3),dtype=float)\n",
        "print(d)"
      ],
      "metadata": {
        "colab": {
          "base_uri": "https://localhost:8080/"
        },
        "id": "f6kc1kfJW1sb",
        "outputId": "a33e031e-3aaa-41e5-879e-93d8b58978f4"
      },
      "execution_count": null,
      "outputs": [
        {
          "output_type": "stream",
          "name": "stdout",
          "text": [
            "[[1. 1. 1.]\n",
            " [1. 1. 1.]\n",
            " [1. 1. 1.]]\n"
          ]
        }
      ]
    },
    {
      "cell_type": "code",
      "source": [
        "# array of a particular value\n",
        "e =np.full((5,4),7)\n",
        "print(d)"
      ],
      "metadata": {
        "colab": {
          "base_uri": "https://localhost:8080/"
        },
        "id": "e1drnKLHXLdO",
        "outputId": "f696b910-9faa-480e-8b7d-dcbedc7c45db"
      },
      "execution_count": null,
      "outputs": [
        {
          "output_type": "stream",
          "name": "stdout",
          "text": [
            "[[1. 1. 1.]\n",
            " [1. 1. 1.]\n",
            " [1. 1. 1.]]\n"
          ]
        }
      ]
    },
    {
      "cell_type": "code",
      "source": [
        "# create an identity matrix\n",
        "a=np.eye(4)\n",
        "print(a)"
      ],
      "metadata": {
        "colab": {
          "base_uri": "https://localhost:8080/"
        },
        "id": "4ctf4632X0z7",
        "outputId": "8256c611-952a-4e20-f0ee-2e1b6f44711c"
      },
      "execution_count": null,
      "outputs": [
        {
          "output_type": "stream",
          "name": "stdout",
          "text": [
            "[[1. 0. 0. 0.]\n",
            " [0. 1. 0. 0.]\n",
            " [0. 0. 1. 0.]\n",
            " [0. 0. 0. 1.]]\n"
          ]
        }
      ]
    },
    {
      "cell_type": "code",
      "source": [
        "# create a numpy with a random values\n",
        "b=np.random.random((3,4))\n",
        "print(b)"
      ],
      "metadata": {
        "colab": {
          "base_uri": "https://localhost:8080/"
        },
        "id": "3dbk_h-mYVsT",
        "outputId": "72011255-0c52-4e01-dce0-a03d59de8627"
      },
      "execution_count": null,
      "outputs": [
        {
          "output_type": "stream",
          "name": "stdout",
          "text": [
            "[[0.6673551  0.33372625 0.76277194 0.18759532]\n",
            " [0.84059203 0.60921761 0.938133   0.5509714 ]\n",
            " [0.89105108 0.06423096 0.90931357 0.01565892]]\n"
          ]
        }
      ]
    },
    {
      "cell_type": "code",
      "source": [
        "# create a numpy with a random integer values\n",
        "c=np.random.randint(10,100,(3,5))  #randint means integers\n",
        "print(c)"
      ],
      "metadata": {
        "colab": {
          "base_uri": "https://localhost:8080/"
        },
        "id": "Xe_lNUmtYhDd",
        "outputId": "983a257a-dc70-4a97-d601-514e372999dd"
      },
      "execution_count": null,
      "outputs": [
        {
          "output_type": "stream",
          "name": "stdout",
          "text": [
            "[[73 10 79 97 59]\n",
            " [11 54 46 29 39]\n",
            " [24 96 64 82 41]]\n"
          ]
        }
      ]
    },
    {
      "cell_type": "code",
      "source": [
        "# array of evenly spaced values --->specifying the number of values required\n",
        "c = np.linspace(10,30,5)\n",
        "print(c)\n",
        "\n",
        "# array of evenly spaced values --->specifying the step\n",
        "c = np.arange(10,30,5)\n",
        "print(c)"
      ],
      "metadata": {
        "colab": {
          "base_uri": "https://localhost:8080/"
        },
        "id": "61cgYGkfY5Qo",
        "outputId": "992d7795-de37-4ada-b88d-ce8c6192e876"
      },
      "execution_count": null,
      "outputs": [
        {
          "output_type": "stream",
          "name": "stdout",
          "text": [
            "[10. 15. 20. 25. 30.]\n",
            "[10 15 20 25]\n"
          ]
        }
      ]
    },
    {
      "cell_type": "code",
      "source": [
        "# convert a list to a numpy array\n",
        "list_2=[1,2,3,4,5,6]\n",
        "np_array=np.array(list_2)\n",
        "print(np_array)\n",
        "type(np_array)"
      ],
      "metadata": {
        "colab": {
          "base_uri": "https://localhost:8080/"
        },
        "id": "jvC3PWjrehCQ",
        "outputId": "fea4cef2-a0b8-4a57-fdbc-fe65b9a217c9"
      },
      "execution_count": null,
      "outputs": [
        {
          "output_type": "stream",
          "name": "stdout",
          "text": [
            "[1 2 3 4 5 6]\n"
          ]
        },
        {
          "output_type": "execute_result",
          "data": {
            "text/plain": [
              "numpy.ndarray"
            ]
          },
          "metadata": {},
          "execution_count": 17
        }
      ]
    },
    {
      "cell_type": "markdown",
      "source": [
        "# analysing a numpy array"
      ],
      "metadata": {
        "id": "A3y77KZrgZwM"
      }
    },
    {
      "cell_type": "code",
      "source": [
        "a = np.random.randint(10,90,(5,5))\n",
        "print(a)"
      ],
      "metadata": {
        "colab": {
          "base_uri": "https://localhost:8080/"
        },
        "id": "-s94KmLGgEU2",
        "outputId": "0c400206-2ce3-41a3-f78e-6ea24397d299"
      },
      "execution_count": null,
      "outputs": [
        {
          "output_type": "stream",
          "name": "stdout",
          "text": [
            "[[86 22 84 47 84]\n",
            " [59 78 59 58 77]\n",
            " [78 66 64 62 63]\n",
            " [23 12 70 21 71]\n",
            " [27 16 46 68 75]]\n"
          ]
        }
      ]
    },
    {
      "cell_type": "code",
      "source": [
        "#arrary dimension\n",
        "a.shape"
      ],
      "metadata": {
        "colab": {
          "base_uri": "https://localhost:8080/"
        },
        "id": "7p4sAyYxgsuF",
        "outputId": "fe733ca9-43ba-46f7-d200-06e2f8c6f51c"
      },
      "execution_count": null,
      "outputs": [
        {
          "output_type": "execute_result",
          "data": {
            "text/plain": [
              "(5, 5)"
            ]
          },
          "metadata": {},
          "execution_count": 20
        }
      ]
    },
    {
      "cell_type": "code",
      "source": [
        "# number of dimensions\n",
        "a.ndim"
      ],
      "metadata": {
        "colab": {
          "base_uri": "https://localhost:8080/"
        },
        "id": "4p6JfyR8hBd5",
        "outputId": "93ef7b6e-08f4-4cf6-8f00-3c1dd6da7b28"
      },
      "execution_count": null,
      "outputs": [
        {
          "output_type": "execute_result",
          "data": {
            "text/plain": [
              "2"
            ]
          },
          "metadata": {},
          "execution_count": 21
        }
      ]
    },
    {
      "cell_type": "code",
      "source": [
        "# number of elements in the array\n",
        "a.size"
      ],
      "metadata": {
        "colab": {
          "base_uri": "https://localhost:8080/"
        },
        "id": "PkgEhUfQhPDL",
        "outputId": "e1b33c78-e6ce-4db8-e6c0-c980d2b163a9"
      },
      "execution_count": null,
      "outputs": [
        {
          "output_type": "execute_result",
          "data": {
            "text/plain": [
              "25"
            ]
          },
          "metadata": {},
          "execution_count": 22
        }
      ]
    },
    {
      "cell_type": "code",
      "source": [
        "# checking the data type of the values in the array\n",
        "a.dtype"
      ],
      "metadata": {
        "colab": {
          "base_uri": "https://localhost:8080/"
        },
        "id": "C94X57KHhbKX",
        "outputId": "7752160a-6ab2-4546-8516-af555f09d446"
      },
      "execution_count": null,
      "outputs": [
        {
          "output_type": "execute_result",
          "data": {
            "text/plain": [
              "dtype('int64')"
            ]
          },
          "metadata": {},
          "execution_count": 25
        }
      ]
    },
    {
      "cell_type": "markdown",
      "source": [
        "#Mathematical operations on a numpy"
      ],
      "metadata": {
        "id": "QZOIGlpoiKV9"
      }
    },
    {
      "cell_type": "code",
      "source": [
        "list1 = [1,2,3,4,5]\n",
        "list2 = [6,7,8,9,10]\n",
        "\n",
        "print(list1 + list2) # concatenate two stes"
      ],
      "metadata": {
        "colab": {
          "base_uri": "https://localhost:8080/"
        },
        "id": "oWLdlROKiFp7",
        "outputId": "597e64b6-9cf0-441c-aba5-7993ede93cb0"
      },
      "execution_count": null,
      "outputs": [
        {
          "output_type": "stream",
          "name": "stdout",
          "text": [
            "[1, 2, 3, 4, 5, 6, 7, 8, 9, 10]\n"
          ]
        }
      ]
    },
    {
      "cell_type": "code",
      "source": [
        "a= np.random.randint(0,10,(3,3))\n",
        "b= np.random.randint(10,20,(3,3))\n",
        "print(a)\n",
        "print(b)"
      ],
      "metadata": {
        "colab": {
          "base_uri": "https://localhost:8080/"
        },
        "id": "wOZzj8Pqinei",
        "outputId": "21277fe5-4b5e-492d-ffc0-9f93686cc5f8"
      },
      "execution_count": null,
      "outputs": [
        {
          "output_type": "stream",
          "name": "stdout",
          "text": [
            "[[7 3 9]\n",
            " [2 4 7]\n",
            " [1 0 1]]\n",
            "[[14 14 12]\n",
            " [17 17 18]\n",
            " [17 19 18]]\n"
          ]
        }
      ]
    },
    {
      "cell_type": "code",
      "source": [
        "print(a+b)\n",
        "print(a-b)\n",
        "print(a*b)\n",
        "print(a/b)"
      ],
      "metadata": {
        "colab": {
          "base_uri": "https://localhost:8080/"
        },
        "id": "ko9jY7-Nj1DZ",
        "outputId": "329ca84a-e537-4a58-c9df-dcd1e4b962f1"
      },
      "execution_count": null,
      "outputs": [
        {
          "output_type": "stream",
          "name": "stdout",
          "text": [
            "[[21 17 21]\n",
            " [19 21 25]\n",
            " [18 19 19]]\n",
            "[[ -7 -11  -3]\n",
            " [-15 -13 -11]\n",
            " [-16 -19 -17]]\n",
            "[[ 98  42 108]\n",
            " [ 34  68 126]\n",
            " [ 17   0  18]]\n",
            "[[0.5        0.21428571 0.75      ]\n",
            " [0.11764706 0.23529412 0.38888889]\n",
            " [0.05882353 0.         0.05555556]]\n"
          ]
        }
      ]
    },
    {
      "cell_type": "code",
      "source": [
        "print(np.add(a,b))\n",
        "print(np.subtract(a,b))\n",
        "print(np.multiply(a,b))\n",
        "print(np.divide(a,b))\n"
      ],
      "metadata": {
        "colab": {
          "base_uri": "https://localhost:8080/"
        },
        "id": "aBl13wtxlP2a",
        "outputId": "298376d0-4d1a-41ad-99b9-89b39fb52c74"
      },
      "execution_count": null,
      "outputs": [
        {
          "output_type": "stream",
          "name": "stdout",
          "text": [
            "[[21 17 21]\n",
            " [19 21 25]\n",
            " [18 19 19]]\n",
            "[[ -7 -11  -3]\n",
            " [-15 -13 -11]\n",
            " [-16 -19 -17]]\n",
            "[[ 98  42 108]\n",
            " [ 34  68 126]\n",
            " [ 17   0  18]]\n",
            "[[0.5        0.21428571 0.75      ]\n",
            " [0.11764706 0.23529412 0.38888889]\n",
            " [0.05882353 0.         0.05555556]]\n"
          ]
        }
      ]
    },
    {
      "cell_type": "markdown",
      "source": [
        "#array manipulation"
      ],
      "metadata": {
        "id": "QcuFwdQGl3Lf"
      }
    },
    {
      "cell_type": "code",
      "source": [
        "array=np.random.randint(10,100,(2,3))\n",
        "print(array)\n",
        "print(array.shape)"
      ],
      "metadata": {
        "colab": {
          "base_uri": "https://localhost:8080/"
        },
        "id": "xi-fU1fjl2ck",
        "outputId": "38aee0f5-2dfa-45e7-afc0-95305092f04d"
      },
      "execution_count": null,
      "outputs": [
        {
          "output_type": "stream",
          "name": "stdout",
          "text": [
            "[[99 12 44]\n",
            " [39 70 81]]\n",
            "(2, 3)\n"
          ]
        }
      ]
    },
    {
      "cell_type": "code",
      "source": [
        "#transpose\n",
        "trans = np.transpose(array)\n",
        "print(trans)\n",
        "print(trans.shape)"
      ],
      "metadata": {
        "colab": {
          "base_uri": "https://localhost:8080/"
        },
        "id": "9BJ93RHemHXT",
        "outputId": "5ff92297-e237-421a-c70e-57dc98d71235"
      },
      "execution_count": null,
      "outputs": [
        {
          "output_type": "stream",
          "name": "stdout",
          "text": [
            "[[99 39]\n",
            " [12 70]\n",
            " [44 81]]\n",
            "(3, 2)\n"
          ]
        }
      ]
    },
    {
      "cell_type": "code",
      "source": [
        "a = np.random.randint(0,10,(3,3))\n",
        "b= a.T\n",
        "print(a)\n",
        "print(b)"
      ],
      "metadata": {
        "colab": {
          "base_uri": "https://localhost:8080/"
        },
        "id": "MdKr-ycwmXmE",
        "outputId": "ae970556-5c77-43b0-b7c3-a84d3121af9d"
      },
      "execution_count": null,
      "outputs": [
        {
          "output_type": "stream",
          "name": "stdout",
          "text": [
            "[[3 4 6]\n",
            " [1 0 9]\n",
            " [9 6 5]]\n",
            "[[3 1 9]\n",
            " [4 0 6]\n",
            " [6 9 5]]\n"
          ]
        }
      ]
    },
    {
      "cell_type": "code",
      "source": [
        "# reshaping a array\n",
        "a=np.random.randint(0,10,(2,3))\n",
        "b=a.reshape(3,2)\n",
        "print(a)\n",
        "print(b)"
      ],
      "metadata": {
        "colab": {
          "base_uri": "https://localhost:8080/"
        },
        "id": "jcG5ebp7m9Eu",
        "outputId": "072d1ba7-87c2-4cb5-fa4e-bb66544d1a1d"
      },
      "execution_count": null,
      "outputs": [
        {
          "output_type": "stream",
          "name": "stdout",
          "text": [
            "[[7 6 9]\n",
            " [3 1 9]]\n",
            "[[7 6]\n",
            " [9 3]\n",
            " [1 9]]\n"
          ]
        }
      ]
    }
  ]
}